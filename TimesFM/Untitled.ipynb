{
 "cells": [
  {
   "cell_type": "code",
   "execution_count": null,
   "id": "05cc3f59-2c14-4f86-8d7d-9ebdf956e25c",
   "metadata": {},
   "outputs": [
    {
     "name": "stdout",
     "output_type": "stream",
     "text": [
      "Requirement already satisfied: timesfm[torch] in c:\\users\\kshantam\\appdata\\local\\anaconda3\\envs\\py311\\lib\\site-packages (1.2.0)\n",
      "Requirement already satisfied: absl-py>=1.4.0 in c:\\users\\kshantam\\appdata\\local\\anaconda3\\envs\\py311\\lib\\site-packages (from timesfm[torch]) (2.1.0)\n",
      "Requirement already satisfied: einshape>=1.0.0 in c:\\users\\kshantam\\appdata\\local\\anaconda3\\envs\\py311\\lib\\site-packages (from timesfm[torch]) (1.0)\n",
      "Requirement already satisfied: huggingface_hub>=0.23.0 in c:\\users\\kshantam\\appdata\\local\\anaconda3\\envs\\py311\\lib\\site-packages (from huggingface_hub[cli]>=0.23.0->timesfm[torch]) (0.24.6)\n",
      "Requirement already satisfied: ipython<9.0.0,>=8.27.0 in c:\\users\\kshantam\\appdata\\local\\anaconda3\\envs\\py311\\lib\\site-packages (from timesfm[torch]) (8.27.0)\n",
      "Requirement already satisfied: numpy>=1.26.4 in c:\\users\\kshantam\\appdata\\local\\anaconda3\\envs\\py311\\lib\\site-packages (from timesfm[torch]) (1.26.4)\n",
      "Requirement already satisfied: pandas>=2.1.4 in c:\\users\\kshantam\\appdata\\local\\anaconda3\\envs\\py311\\lib\\site-packages (from timesfm[torch]) (2.2.2)\n",
      "Requirement already satisfied: scikit-learn>=1.2.2 in c:\\users\\kshantam\\appdata\\local\\anaconda3\\envs\\py311\\lib\\site-packages (from timesfm[torch]) (1.5.2)\n",
      "Requirement already satisfied: typer>=0.12.3 in c:\\users\\kshantam\\appdata\\local\\anaconda3\\envs\\py311\\lib\\site-packages (from timesfm[torch]) (0.13.1)\n",
      "Requirement already satisfied: utilsforecast>=0.1.10 in c:\\users\\kshantam\\appdata\\local\\anaconda3\\envs\\py311\\lib\\site-packages (from timesfm[torch]) (0.2.8)\n",
      "Requirement already satisfied: wandb>=0.17.5 in c:\\users\\kshantam\\appdata\\local\\anaconda3\\envs\\py311\\lib\\site-packages (from timesfm[torch]) (0.18.7)\n",
      "Requirement already satisfied: filelock in c:\\users\\kshantam\\appdata\\local\\anaconda3\\envs\\py311\\lib\\site-packages (from huggingface_hub>=0.23.0->huggingface_hub[cli]>=0.23.0->timesfm[torch]) (3.13.1)\n",
      "Requirement already satisfied: fsspec>=2023.5.0 in c:\\users\\kshantam\\appdata\\local\\anaconda3\\envs\\py311\\lib\\site-packages (from huggingface_hub>=0.23.0->huggingface_hub[cli]>=0.23.0->timesfm[torch]) (2024.3.1)\n",
      "Requirement already satisfied: packaging>=20.9 in c:\\users\\kshantam\\appdata\\local\\anaconda3\\envs\\py311\\lib\\site-packages (from huggingface_hub>=0.23.0->huggingface_hub[cli]>=0.23.0->timesfm[torch]) (24.1)\n",
      "Requirement already satisfied: pyyaml>=5.1 in c:\\users\\kshantam\\appdata\\local\\anaconda3\\envs\\py311\\lib\\site-packages (from huggingface_hub>=0.23.0->huggingface_hub[cli]>=0.23.0->timesfm[torch]) (6.0.2)\n",
      "Requirement already satisfied: requests in c:\\users\\kshantam\\appdata\\local\\anaconda3\\envs\\py311\\lib\\site-packages (from huggingface_hub>=0.23.0->huggingface_hub[cli]>=0.23.0->timesfm[torch]) (2.32.3)\n",
      "Requirement already satisfied: tqdm>=4.42.1 in c:\\users\\kshantam\\appdata\\local\\anaconda3\\envs\\py311\\lib\\site-packages (from huggingface_hub>=0.23.0->huggingface_hub[cli]>=0.23.0->timesfm[torch]) (4.66.5)\n",
      "Requirement already satisfied: typing-extensions>=3.7.4.3 in c:\\users\\kshantam\\appdata\\local\\anaconda3\\envs\\py311\\lib\\site-packages (from huggingface_hub>=0.23.0->huggingface_hub[cli]>=0.23.0->timesfm[torch]) (4.11.0)\n",
      "Requirement already satisfied: InquirerPy==0.3.4 in c:\\users\\kshantam\\appdata\\local\\anaconda3\\envs\\py311\\lib\\site-packages (from huggingface_hub[cli]>=0.23.0->timesfm[torch]) (0.3.4)\n",
      "Requirement already satisfied: pfzy<0.4.0,>=0.3.1 in c:\\users\\kshantam\\appdata\\local\\anaconda3\\envs\\py311\\lib\\site-packages (from InquirerPy==0.3.4->huggingface_hub[cli]>=0.23.0->timesfm[torch]) (0.3.4)\n",
      "Requirement already satisfied: prompt-toolkit<4.0.0,>=3.0.1 in c:\\users\\kshantam\\appdata\\local\\anaconda3\\envs\\py311\\lib\\site-packages (from InquirerPy==0.3.4->huggingface_hub[cli]>=0.23.0->timesfm[torch]) (3.0.43)\n",
      "Requirement already satisfied: decorator in c:\\users\\kshantam\\appdata\\local\\anaconda3\\envs\\py311\\lib\\site-packages (from ipython<9.0.0,>=8.27.0->timesfm[torch]) (5.1.1)\n",
      "Requirement already satisfied: jedi>=0.16 in c:\\users\\kshantam\\appdata\\local\\anaconda3\\envs\\py311\\lib\\site-packages (from ipython<9.0.0,>=8.27.0->timesfm[torch]) (0.19.1)\n",
      "Requirement already satisfied: matplotlib-inline in c:\\users\\kshantam\\appdata\\local\\anaconda3\\envs\\py311\\lib\\site-packages (from ipython<9.0.0,>=8.27.0->timesfm[torch]) (0.1.6)\n",
      "Requirement already satisfied: pygments>=2.4.0 in c:\\users\\kshantam\\appdata\\local\\anaconda3\\envs\\py311\\lib\\site-packages (from ipython<9.0.0,>=8.27.0->timesfm[torch]) (2.15.1)\n",
      "Requirement already satisfied: stack-data in c:\\users\\kshantam\\appdata\\local\\anaconda3\\envs\\py311\\lib\\site-packages (from ipython<9.0.0,>=8.27.0->timesfm[torch]) (0.2.0)\n",
      "Requirement already satisfied: traitlets>=5.13.0 in c:\\users\\kshantam\\appdata\\local\\anaconda3\\envs\\py311\\lib\\site-packages (from ipython<9.0.0,>=8.27.0->timesfm[torch]) (5.14.3)\n",
      "Requirement already satisfied: colorama in c:\\users\\kshantam\\appdata\\local\\anaconda3\\envs\\py311\\lib\\site-packages (from ipython<9.0.0,>=8.27.0->timesfm[torch]) (0.4.6)\n",
      "Requirement already satisfied: python-dateutil>=2.8.2 in c:\\users\\kshantam\\appdata\\local\\anaconda3\\envs\\py311\\lib\\site-packages (from pandas>=2.1.4->timesfm[torch]) (2.9.0.post0)\n",
      "Requirement already satisfied: pytz>=2020.1 in c:\\users\\kshantam\\appdata\\local\\anaconda3\\envs\\py311\\lib\\site-packages (from pandas>=2.1.4->timesfm[torch]) (2024.1)\n",
      "Requirement already satisfied: tzdata>=2022.7 in c:\\users\\kshantam\\appdata\\local\\anaconda3\\envs\\py311\\lib\\site-packages (from pandas>=2.1.4->timesfm[torch]) (2023.3)\n",
      "Requirement already satisfied: scipy>=1.6.0 in c:\\users\\kshantam\\appdata\\local\\anaconda3\\envs\\py311\\lib\\site-packages (from scikit-learn>=1.2.2->timesfm[torch]) (1.14.1)\n",
      "Requirement already satisfied: joblib>=1.2.0 in c:\\users\\kshantam\\appdata\\local\\anaconda3\\envs\\py311\\lib\\site-packages (from scikit-learn>=1.2.2->timesfm[torch]) (1.4.2)\n",
      "Requirement already satisfied: threadpoolctl>=3.1.0 in c:\\users\\kshantam\\appdata\\local\\anaconda3\\envs\\py311\\lib\\site-packages (from scikit-learn>=1.2.2->timesfm[torch]) (3.5.0)\n",
      "Requirement already satisfied: click>=8.0.0 in c:\\users\\kshantam\\appdata\\local\\anaconda3\\envs\\py311\\lib\\site-packages (from typer>=0.12.3->timesfm[torch]) (8.1.7)\n",
      "Requirement already satisfied: shellingham>=1.3.0 in c:\\users\\kshantam\\appdata\\local\\anaconda3\\envs\\py311\\lib\\site-packages (from typer>=0.12.3->timesfm[torch]) (1.5.4)\n",
      "Requirement already satisfied: rich>=10.11.0 in c:\\users\\kshantam\\appdata\\local\\anaconda3\\envs\\py311\\lib\\site-packages (from typer>=0.12.3->timesfm[torch]) (13.9.4)\n",
      "Requirement already satisfied: docker-pycreds>=0.4.0 in c:\\users\\kshantam\\appdata\\local\\anaconda3\\envs\\py311\\lib\\site-packages (from wandb>=0.17.5->timesfm[torch]) (0.4.0)\n",
      "Requirement already satisfied: gitpython!=3.1.29,>=1.0.0 in c:\\users\\kshantam\\appdata\\local\\anaconda3\\envs\\py311\\lib\\site-packages (from wandb>=0.17.5->timesfm[torch]) (3.1.43)\n",
      "Requirement already satisfied: platformdirs in c:\\users\\kshantam\\appdata\\local\\anaconda3\\envs\\py311\\lib\\site-packages (from wandb>=0.17.5->timesfm[torch]) (3.10.0)\n",
      "Requirement already satisfied: protobuf!=4.21.0,!=5.28.0,<6,>=3.19.0 in c:\\users\\kshantam\\appdata\\local\\anaconda3\\envs\\py311\\lib\\site-packages (from wandb>=0.17.5->timesfm[torch]) (5.28.3)\n",
      "Requirement already satisfied: psutil>=5.0.0 in c:\\users\\kshantam\\appdata\\local\\anaconda3\\envs\\py311\\lib\\site-packages (from wandb>=0.17.5->timesfm[torch]) (5.9.0)\n",
      "Requirement already satisfied: sentry-sdk>=2.0.0 in c:\\users\\kshantam\\appdata\\local\\anaconda3\\envs\\py311\\lib\\site-packages (from wandb>=0.17.5->timesfm[torch]) (2.18.0)\n",
      "Requirement already satisfied: setproctitle in c:\\users\\kshantam\\appdata\\local\\anaconda3\\envs\\py311\\lib\\site-packages (from wandb>=0.17.5->timesfm[torch]) (1.3.4)\n",
      "Requirement already satisfied: setuptools in c:\\users\\kshantam\\appdata\\local\\anaconda3\\envs\\py311\\lib\\site-packages (from wandb>=0.17.5->timesfm[torch]) (75.1.0)\n",
      "Requirement already satisfied: six>=1.4.0 in c:\\users\\kshantam\\appdata\\local\\anaconda3\\envs\\py311\\lib\\site-packages (from docker-pycreds>=0.4.0->wandb>=0.17.5->timesfm[torch]) (1.16.0)\n",
      "Requirement already satisfied: gitdb<5,>=4.0.1 in c:\\users\\kshantam\\appdata\\local\\anaconda3\\envs\\py311\\lib\\site-packages (from gitpython!=3.1.29,>=1.0.0->wandb>=0.17.5->timesfm[torch]) (4.0.11)\n",
      "Requirement already satisfied: parso<0.9.0,>=0.8.3 in c:\\users\\kshantam\\appdata\\local\\anaconda3\\envs\\py311\\lib\\site-packages (from jedi>=0.16->ipython<9.0.0,>=8.27.0->timesfm[torch]) (0.8.3)\n",
      "Requirement already satisfied: wcwidth in c:\\users\\kshantam\\appdata\\local\\anaconda3\\envs\\py311\\lib\\site-packages (from prompt-toolkit<4.0.0,>=3.0.1->InquirerPy==0.3.4->huggingface_hub[cli]>=0.23.0->timesfm[torch]) (0.2.5)\n",
      "Requirement already satisfied: charset-normalizer<4,>=2 in c:\\users\\kshantam\\appdata\\local\\anaconda3\\envs\\py311\\lib\\site-packages (from requests->huggingface_hub>=0.23.0->huggingface_hub[cli]>=0.23.0->timesfm[torch]) (3.3.2)\n",
      "Requirement already satisfied: idna<4,>=2.5 in c:\\users\\kshantam\\appdata\\local\\anaconda3\\envs\\py311\\lib\\site-packages (from requests->huggingface_hub>=0.23.0->huggingface_hub[cli]>=0.23.0->timesfm[torch]) (3.7)\n",
      "Requirement already satisfied: urllib3<3,>=1.21.1 in c:\\users\\kshantam\\appdata\\local\\anaconda3\\envs\\py311\\lib\\site-packages (from requests->huggingface_hub>=0.23.0->huggingface_hub[cli]>=0.23.0->timesfm[torch]) (2.2.3)\n",
      "Requirement already satisfied: certifi>=2017.4.17 in c:\\users\\kshantam\\appdata\\local\\anaconda3\\envs\\py311\\lib\\site-packages (from requests->huggingface_hub>=0.23.0->huggingface_hub[cli]>=0.23.0->timesfm[torch]) (2024.8.30)\n",
      "Requirement already satisfied: markdown-it-py>=2.2.0 in c:\\users\\kshantam\\appdata\\local\\anaconda3\\envs\\py311\\lib\\site-packages (from rich>=10.11.0->typer>=0.12.3->timesfm[torch]) (3.0.0)\n",
      "Requirement already satisfied: executing in c:\\users\\kshantam\\appdata\\local\\anaconda3\\envs\\py311\\lib\\site-packages (from stack-data->ipython<9.0.0,>=8.27.0->timesfm[torch]) (0.8.3)\n",
      "Requirement already satisfied: asttokens in c:\\users\\kshantam\\appdata\\local\\anaconda3\\envs\\py311\\lib\\site-packages (from stack-data->ipython<9.0.0,>=8.27.0->timesfm[torch]) (2.0.5)\n",
      "Requirement already satisfied: pure-eval in c:\\users\\kshantam\\appdata\\local\\anaconda3\\envs\\py311\\lib\\site-packages (from stack-data->ipython<9.0.0,>=8.27.0->timesfm[torch]) (0.2.2)\n",
      "Requirement already satisfied: smmap<6,>=3.0.1 in c:\\users\\kshantam\\appdata\\local\\anaconda3\\envs\\py311\\lib\\site-packages (from gitdb<5,>=4.0.1->gitpython!=3.1.29,>=1.0.0->wandb>=0.17.5->timesfm[torch]) (5.0.1)\n",
      "Requirement already satisfied: mdurl~=0.1 in c:\\users\\kshantam\\appdata\\local\\anaconda3\\envs\\py311\\lib\\site-packages (from markdown-it-py>=2.2.0->rich>=10.11.0->typer>=0.12.3->timesfm[torch]) (0.1.2)\n"
     ]
    },
    {
     "name": "stderr",
     "output_type": "stream",
     "text": [
      "WARNING: timesfm 1.2.0 does not provide the extra 'torch'\n"
     ]
    }
   ],
   "source": [
    "!pip install timesfm[torch]\n",
    "!pip install jax"
   ]
  },
  {
   "cell_type": "code",
   "execution_count": 2,
   "id": "0ec451e8-a771-4aba-a774-f97e2acf65e0",
   "metadata": {},
   "outputs": [],
   "source": [
    "import pandas as pd\n",
    "import timesfm"
   ]
  },
  {
   "cell_type": "code",
   "execution_count": 3,
   "id": "df270a86-ecfd-4d85-ad3e-06a1ca74ccd4",
   "metadata": {},
   "outputs": [
    {
     "ename": "AttributeError",
     "evalue": "module 'timesfm' has no attribute 'TimesFm'",
     "output_type": "error",
     "traceback": [
      "\u001b[1;31m---------------------------------------------------------------------------\u001b[0m",
      "\u001b[1;31mAttributeError\u001b[0m                            Traceback (most recent call last)",
      "Cell \u001b[1;32mIn[3], line 1\u001b[0m\n\u001b[1;32m----> 1\u001b[0m tfm \u001b[38;5;241m=\u001b[39m timesfm\u001b[38;5;241m.\u001b[39mTimesFm(\n\u001b[0;32m      2\u001b[0m       hparams\u001b[38;5;241m=\u001b[39mtimesfm\u001b[38;5;241m.\u001b[39mTimesFmHparams(\n\u001b[0;32m      3\u001b[0m           backend\u001b[38;5;241m=\u001b[39m\u001b[38;5;124m\"\u001b[39m\u001b[38;5;124mcpu\u001b[39m\u001b[38;5;124m\"\u001b[39m,\n\u001b[0;32m      4\u001b[0m           per_core_batch_size\u001b[38;5;241m=\u001b[39m\u001b[38;5;241m32\u001b[39m,\n\u001b[0;32m      5\u001b[0m           horizon_len\u001b[38;5;241m=\u001b[39m\u001b[38;5;241m128\u001b[39m,\n\u001b[0;32m      6\u001b[0m       ),\n\u001b[0;32m      7\u001b[0m       checkpoint\u001b[38;5;241m=\u001b[39mtimesfm\u001b[38;5;241m.\u001b[39mTimesFmCheckpoint(\n\u001b[0;32m      8\u001b[0m           huggingface_repo_id\u001b[38;5;241m=\u001b[39m\u001b[38;5;124m\"\u001b[39m\u001b[38;5;124mgoogle/timesfm-1.0-200m-pytorch\u001b[39m\u001b[38;5;124m\"\u001b[39m),\n\u001b[0;32m      9\u001b[0m   )\n",
      "\u001b[1;31mAttributeError\u001b[0m: module 'timesfm' has no attribute 'TimesFm'"
     ]
    }
   ],
   "source": [
    "tfm = timesfm.TimesFm(\n",
    "      hparams=timesfm.TimesFmHparams(\n",
    "          backend=\"cpu\",\n",
    "          per_core_batch_size=32,\n",
    "          horizon_len=128,\n",
    "      ),\n",
    "      checkpoint=timesfm.TimesFmCheckpoint(\n",
    "          huggingface_repo_id=\"google/timesfm-1.0-200m-pytorch\"),\n",
    "  )"
   ]
  },
  {
   "cell_type": "code",
   "execution_count": null,
   "id": "9b2eefb1-f07a-47fc-ab6f-8dd3f528a237",
   "metadata": {},
   "outputs": [],
   "source": []
  }
 ],
 "metadata": {
  "kernelspec": {
   "display_name": "Python 3 (ipykernel)",
   "language": "python",
   "name": "python3"
  },
  "language_info": {
   "codemirror_mode": {
    "name": "ipython",
    "version": 3
   },
   "file_extension": ".py",
   "mimetype": "text/x-python",
   "name": "python",
   "nbconvert_exporter": "python",
   "pygments_lexer": "ipython3",
   "version": "3.11.10"
  }
 },
 "nbformat": 4,
 "nbformat_minor": 5
}
